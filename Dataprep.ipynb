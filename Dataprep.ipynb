{
 "cells": [
  {
   "cell_type": "code",
   "execution_count": 1,
   "metadata": {},
   "outputs": [],
   "source": [
    "import pandas as pd\n",
    "import numpy as np\n",
    "import missingno as msno"
   ]
  },
  {
   "cell_type": "code",
   "execution_count": 2,
   "metadata": {},
   "outputs": [
    {
     "data": {
      "text/html": [
       "<div>\n",
       "<style scoped>\n",
       "    .dataframe tbody tr th:only-of-type {\n",
       "        vertical-align: middle;\n",
       "    }\n",
       "\n",
       "    .dataframe tbody tr th {\n",
       "        vertical-align: top;\n",
       "    }\n",
       "\n",
       "    .dataframe thead th {\n",
       "        text-align: right;\n",
       "    }\n",
       "</style>\n",
       "<table border=\"1\" class=\"dataframe\">\n",
       "  <thead>\n",
       "    <tr style=\"text-align: right;\">\n",
       "      <th></th>\n",
       "      <th>pslist.nproc</th>\n",
       "      <th>pslist.nppid</th>\n",
       "      <th>pslist.avg_threads</th>\n",
       "      <th>pslist.nprocs64bit</th>\n",
       "      <th>pslist.avg_handlers</th>\n",
       "      <th>dlllist.ndlls</th>\n",
       "      <th>dlllist.avg_dlls_per_proc</th>\n",
       "      <th>handles.nhandles</th>\n",
       "      <th>handles.avg_handles_per_proc</th>\n",
       "      <th>handles.nport</th>\n",
       "      <th>...</th>\n",
       "      <th>svcscan.process_services</th>\n",
       "      <th>svcscan.shared_process_services</th>\n",
       "      <th>svcscan.interactive_process_services</th>\n",
       "      <th>svcscan.nactive</th>\n",
       "      <th>callbacks.ncallbacks</th>\n",
       "      <th>callbacks.nanonymous</th>\n",
       "      <th>callbacks.ngeneric</th>\n",
       "      <th>Class</th>\n",
       "      <th>Category</th>\n",
       "      <th>Family</th>\n",
       "    </tr>\n",
       "  </thead>\n",
       "  <tbody>\n",
       "    <tr>\n",
       "      <th>0</th>\n",
       "      <td>45</td>\n",
       "      <td>17</td>\n",
       "      <td>10.555556</td>\n",
       "      <td>0</td>\n",
       "      <td>202.844444</td>\n",
       "      <td>1694</td>\n",
       "      <td>38.50000</td>\n",
       "      <td>9129</td>\n",
       "      <td>212.302326</td>\n",
       "      <td>0</td>\n",
       "      <td>...</td>\n",
       "      <td>24</td>\n",
       "      <td>116</td>\n",
       "      <td>0</td>\n",
       "      <td>121</td>\n",
       "      <td>87</td>\n",
       "      <td>0</td>\n",
       "      <td>8</td>\n",
       "      <td>Benign</td>\n",
       "      <td>Benign</td>\n",
       "      <td>Benign</td>\n",
       "    </tr>\n",
       "    <tr>\n",
       "      <th>1</th>\n",
       "      <td>47</td>\n",
       "      <td>19</td>\n",
       "      <td>11.531915</td>\n",
       "      <td>0</td>\n",
       "      <td>242.234043</td>\n",
       "      <td>2074</td>\n",
       "      <td>44.12766</td>\n",
       "      <td>11385</td>\n",
       "      <td>242.234043</td>\n",
       "      <td>0</td>\n",
       "      <td>...</td>\n",
       "      <td>24</td>\n",
       "      <td>118</td>\n",
       "      <td>0</td>\n",
       "      <td>122</td>\n",
       "      <td>87</td>\n",
       "      <td>0</td>\n",
       "      <td>8</td>\n",
       "      <td>Benign</td>\n",
       "      <td>Benign</td>\n",
       "      <td>Benign</td>\n",
       "    </tr>\n",
       "    <tr>\n",
       "      <th>2</th>\n",
       "      <td>40</td>\n",
       "      <td>14</td>\n",
       "      <td>14.725000</td>\n",
       "      <td>0</td>\n",
       "      <td>288.225000</td>\n",
       "      <td>1932</td>\n",
       "      <td>48.30000</td>\n",
       "      <td>11529</td>\n",
       "      <td>288.225000</td>\n",
       "      <td>0</td>\n",
       "      <td>...</td>\n",
       "      <td>27</td>\n",
       "      <td>118</td>\n",
       "      <td>0</td>\n",
       "      <td>120</td>\n",
       "      <td>88</td>\n",
       "      <td>0</td>\n",
       "      <td>8</td>\n",
       "      <td>Benign</td>\n",
       "      <td>Benign</td>\n",
       "      <td>Benign</td>\n",
       "    </tr>\n",
       "  </tbody>\n",
       "</table>\n",
       "<p>3 rows × 58 columns</p>\n",
       "</div>"
      ],
      "text/plain": [
       "   pslist.nproc  pslist.nppid  pslist.avg_threads  pslist.nprocs64bit  \\\n",
       "0            45            17           10.555556                   0   \n",
       "1            47            19           11.531915                   0   \n",
       "2            40            14           14.725000                   0   \n",
       "\n",
       "   pslist.avg_handlers  dlllist.ndlls  dlllist.avg_dlls_per_proc  \\\n",
       "0           202.844444           1694                   38.50000   \n",
       "1           242.234043           2074                   44.12766   \n",
       "2           288.225000           1932                   48.30000   \n",
       "\n",
       "   handles.nhandles  handles.avg_handles_per_proc  handles.nport  ...  \\\n",
       "0              9129                    212.302326              0  ...   \n",
       "1             11385                    242.234043              0  ...   \n",
       "2             11529                    288.225000              0  ...   \n",
       "\n",
       "   svcscan.process_services  svcscan.shared_process_services  \\\n",
       "0                        24                              116   \n",
       "1                        24                              118   \n",
       "2                        27                              118   \n",
       "\n",
       "   svcscan.interactive_process_services  svcscan.nactive  \\\n",
       "0                                     0              121   \n",
       "1                                     0              122   \n",
       "2                                     0              120   \n",
       "\n",
       "   callbacks.ncallbacks  callbacks.nanonymous  callbacks.ngeneric   Class  \\\n",
       "0                    87                     0                   8  Benign   \n",
       "1                    87                     0                   8  Benign   \n",
       "2                    88                     0                   8  Benign   \n",
       "\n",
       "   Category  Family  \n",
       "0    Benign  Benign  \n",
       "1    Benign  Benign  \n",
       "2    Benign  Benign  \n",
       "\n",
       "[3 rows x 58 columns]"
      ]
     },
     "execution_count": 2,
     "metadata": {},
     "output_type": "execute_result"
    }
   ],
   "source": [
    "path_load = '/home/arfrech/Documents/Cursos/data science/Projects/cybersecurity - TCC/tcc-dsa/data/raw'\n",
    "df = pd.read_csv(f'{path_load}/Obfuscated-MalMem2022.csv')\n",
    "categoria_familia = df.Category.str.split('-',expand=True)[[0,1]].replace({1:{None:'Benign'}}).rename(columns={0:'Category',1:'Family'})\n",
    "df = pd.concat([df.drop(columns='Category'),categoria_familia],axis=1)\n",
    "df = df.astype({'Class':'category','Category':'category','Family':'category'})\n",
    "df.head(3)"
   ]
  },
  {
   "cell_type": "code",
   "execution_count": 3,
   "metadata": {},
   "outputs": [
    {
     "data": {
      "text/plain": [
       "(58596, 58)"
      ]
     },
     "execution_count": 3,
     "metadata": {},
     "output_type": "execute_result"
    }
   ],
   "source": [
    "df.shape"
   ]
  },
  {
   "cell_type": "code",
   "execution_count": 4,
   "metadata": {},
   "outputs": [
    {
     "name": "stdout",
     "output_type": "stream",
     "text": [
      "<class 'pandas.core.frame.DataFrame'>\n",
      "RangeIndex: 58596 entries, 0 to 58595\n",
      "Data columns (total 58 columns):\n",
      " #   Column                                  Non-Null Count  Dtype   \n",
      "---  ------                                  --------------  -----   \n",
      " 0   pslist.nproc                            58596 non-null  int64   \n",
      " 1   pslist.nppid                            58596 non-null  int64   \n",
      " 2   pslist.avg_threads                      58596 non-null  float64 \n",
      " 3   pslist.nprocs64bit                      58596 non-null  int64   \n",
      " 4   pslist.avg_handlers                     58596 non-null  float64 \n",
      " 5   dlllist.ndlls                           58596 non-null  int64   \n",
      " 6   dlllist.avg_dlls_per_proc               58596 non-null  float64 \n",
      " 7   handles.nhandles                        58596 non-null  int64   \n",
      " 8   handles.avg_handles_per_proc            58596 non-null  float64 \n",
      " 9   handles.nport                           58596 non-null  int64   \n",
      " 10  handles.nfile                           58596 non-null  int64   \n",
      " 11  handles.nevent                          58596 non-null  int64   \n",
      " 12  handles.ndesktop                        58596 non-null  int64   \n",
      " 13  handles.nkey                            58596 non-null  int64   \n",
      " 14  handles.nthread                         58596 non-null  int64   \n",
      " 15  handles.ndirectory                      58596 non-null  int64   \n",
      " 16  handles.nsemaphore                      58596 non-null  int64   \n",
      " 17  handles.ntimer                          58596 non-null  int64   \n",
      " 18  handles.nsection                        58596 non-null  int64   \n",
      " 19  handles.nmutant                         58596 non-null  int64   \n",
      " 20  ldrmodules.not_in_load                  58596 non-null  int64   \n",
      " 21  ldrmodules.not_in_init                  58596 non-null  int64   \n",
      " 22  ldrmodules.not_in_mem                   58596 non-null  int64   \n",
      " 23  ldrmodules.not_in_load_avg              58596 non-null  float64 \n",
      " 24  ldrmodules.not_in_init_avg              58596 non-null  float64 \n",
      " 25  ldrmodules.not_in_mem_avg               58596 non-null  float64 \n",
      " 26  malfind.ninjections                     58596 non-null  int64   \n",
      " 27  malfind.commitCharge                    58596 non-null  int64   \n",
      " 28  malfind.protection                      58596 non-null  int64   \n",
      " 29  malfind.uniqueInjections                58596 non-null  float64 \n",
      " 30  psxview.not_in_pslist                   58596 non-null  int64   \n",
      " 31  psxview.not_in_eprocess_pool            58596 non-null  int64   \n",
      " 32  psxview.not_in_ethread_pool             58596 non-null  int64   \n",
      " 33  psxview.not_in_pspcid_list              58596 non-null  int64   \n",
      " 34  psxview.not_in_csrss_handles            58596 non-null  int64   \n",
      " 35  psxview.not_in_session                  58596 non-null  int64   \n",
      " 36  psxview.not_in_deskthrd                 58596 non-null  int64   \n",
      " 37  psxview.not_in_pslist_false_avg         58596 non-null  float64 \n",
      " 38  psxview.not_in_eprocess_pool_false_avg  58596 non-null  float64 \n",
      " 39  psxview.not_in_ethread_pool_false_avg   58596 non-null  float64 \n",
      " 40  psxview.not_in_pspcid_list_false_avg    58596 non-null  float64 \n",
      " 41  psxview.not_in_csrss_handles_false_avg  58596 non-null  float64 \n",
      " 42  psxview.not_in_session_false_avg        58596 non-null  float64 \n",
      " 43  psxview.not_in_deskthrd_false_avg       58596 non-null  float64 \n",
      " 44  modules.nmodules                        58596 non-null  int64   \n",
      " 45  svcscan.nservices                       58596 non-null  int64   \n",
      " 46  svcscan.kernel_drivers                  58596 non-null  int64   \n",
      " 47  svcscan.fs_drivers                      58596 non-null  int64   \n",
      " 48  svcscan.process_services                58596 non-null  int64   \n",
      " 49  svcscan.shared_process_services         58596 non-null  int64   \n",
      " 50  svcscan.interactive_process_services    58596 non-null  int64   \n",
      " 51  svcscan.nactive                         58596 non-null  int64   \n",
      " 52  callbacks.ncallbacks                    58596 non-null  int64   \n",
      " 53  callbacks.nanonymous                    58596 non-null  int64   \n",
      " 54  callbacks.ngeneric                      58596 non-null  int64   \n",
      " 55  Class                                   58596 non-null  category\n",
      " 56  Category                                58596 non-null  category\n",
      " 57  Family                                  58596 non-null  category\n",
      "dtypes: category(3), float64(15), int64(40)\n",
      "memory usage: 24.8 MB\n"
     ]
    }
   ],
   "source": [
    "df.info(show_counts=True,verbose=True)"
   ]
  },
  {
   "cell_type": "code",
   "execution_count": 5,
   "metadata": {},
   "outputs": [
    {
     "data": {
      "text/plain": [
       "Class\n",
       "Benign     29298\n",
       "Malware    29298\n",
       "Name: count, dtype: int64"
      ]
     },
     "execution_count": 5,
     "metadata": {},
     "output_type": "execute_result"
    }
   ],
   "source": [
    "df['Class'].value_counts()"
   ]
  },
  {
   "cell_type": "code",
   "execution_count": 7,
   "metadata": {},
   "outputs": [
    {
     "data": {
      "text/plain": [
       "Category\n",
       "Benign        29298\n",
       "Spyware       10020\n",
       "Ransomware     9791\n",
       "Trojan         9487\n",
       "Name: count, dtype: int64"
      ]
     },
     "execution_count": 7,
     "metadata": {},
     "output_type": "execute_result"
    }
   ],
   "source": [
    "df['Category'].value_counts()"
   ]
  },
  {
   "cell_type": "code",
   "execution_count": 9,
   "metadata": {},
   "outputs": [
    {
     "data": {
      "text/plain": [
       "29298"
      ]
     },
     "execution_count": 9,
     "metadata": {},
     "output_type": "execute_result"
    }
   ],
   "source": [
    "df['Family'].value_counts()[1:].sum()"
   ]
  },
  {
   "cell_type": "code",
   "execution_count": 5,
   "metadata": {},
   "outputs": [],
   "source": [
    "df = df.drop_duplicates()"
   ]
  },
  {
   "cell_type": "code",
   "execution_count": 6,
   "metadata": {},
   "outputs": [
    {
     "data": {
      "text/plain": [
       "(58047, 58)"
      ]
     },
     "execution_count": 6,
     "metadata": {},
     "output_type": "execute_result"
    }
   ],
   "source": [
    "df.shape"
   ]
  },
  {
   "cell_type": "code",
   "execution_count": 7,
   "metadata": {},
   "outputs": [
    {
     "data": {
      "text/plain": [
       "pslist.nproc                              0\n",
       "psxview.not_in_eprocess_pool              0\n",
       "psxview.not_in_ethread_pool               0\n",
       "psxview.not_in_pspcid_list                0\n",
       "psxview.not_in_csrss_handles              0\n",
       "psxview.not_in_session                    0\n",
       "psxview.not_in_deskthrd                   0\n",
       "psxview.not_in_pslist_false_avg           0\n",
       "psxview.not_in_eprocess_pool_false_avg    0\n",
       "psxview.not_in_ethread_pool_false_avg     0\n",
       "psxview.not_in_pspcid_list_false_avg      0\n",
       "psxview.not_in_csrss_handles_false_avg    0\n",
       "psxview.not_in_session_false_avg          0\n",
       "psxview.not_in_deskthrd_false_avg         0\n",
       "modules.nmodules                          0\n",
       "svcscan.nservices                         0\n",
       "svcscan.kernel_drivers                    0\n",
       "svcscan.fs_drivers                        0\n",
       "svcscan.process_services                  0\n",
       "svcscan.shared_process_services           0\n",
       "svcscan.interactive_process_services      0\n",
       "svcscan.nactive                           0\n",
       "callbacks.ncallbacks                      0\n",
       "callbacks.nanonymous                      0\n",
       "callbacks.ngeneric                        0\n",
       "Class                                     0\n",
       "psxview.not_in_pslist                     0\n",
       "malfind.uniqueInjections                  0\n",
       "malfind.protection                        0\n",
       "malfind.commitCharge                      0\n",
       "pslist.nppid                              0\n",
       "pslist.avg_threads                        0\n",
       "pslist.nprocs64bit                        0\n",
       "pslist.avg_handlers                       0\n",
       "dlllist.ndlls                             0\n",
       "dlllist.avg_dlls_per_proc                 0\n",
       "handles.nhandles                          0\n",
       "handles.avg_handles_per_proc              0\n",
       "handles.nport                             0\n",
       "handles.nfile                             0\n",
       "handles.nevent                            0\n",
       "handles.ndesktop                          0\n",
       "Category                                  0\n",
       "handles.nkey                              0\n",
       "handles.ndirectory                        0\n",
       "handles.nsemaphore                        0\n",
       "handles.ntimer                            0\n",
       "handles.nsection                          0\n",
       "handles.nmutant                           0\n",
       "ldrmodules.not_in_load                    0\n",
       "ldrmodules.not_in_init                    0\n",
       "ldrmodules.not_in_mem                     0\n",
       "ldrmodules.not_in_load_avg                0\n",
       "ldrmodules.not_in_init_avg                0\n",
       "ldrmodules.not_in_mem_avg                 0\n",
       "malfind.ninjections                       0\n",
       "handles.nthread                           0\n",
       "Family                                    0\n",
       "dtype: int64"
      ]
     },
     "execution_count": 7,
     "metadata": {},
     "output_type": "execute_result"
    }
   ],
   "source": [
    "df.isnull().sum().sort_values()"
   ]
  },
  {
   "cell_type": "code",
   "execution_count": 8,
   "metadata": {},
   "outputs": [
    {
     "data": {
      "image/png": "[encoded data removed]",
      "text/plain": [
       "<Figure size 2500x1000 with 2 Axes>"
      ]
     },
     "metadata": {},
     "output_type": "display_data"
    }
   ],
   "source": [
    "msno.matrix(df);"
   ]
  },
  {
   "cell_type": "code",
   "execution_count": 9,
   "metadata": {},
   "outputs": [
    {
     "data": {
      "text/plain": [
       "pslist.nprocs64bit                      0.0\n",
       "svcscan.interactive_process_services    0.0\n",
       "handles.nport                           0.0\n",
       "dtype: float64"
      ]
     },
     "execution_count": 9,
     "metadata": {},
     "output_type": "execute_result"
    }
   ],
   "source": [
    "df.iloc[:,:-3].var().sort_values().head(3)"
   ]
  },
  {
   "cell_type": "code",
   "execution_count": 10,
   "metadata": {},
   "outputs": [
    {
     "data": {
      "text/html": [
       "<div>\n",
       "<style scoped>\n",
       "    .dataframe tbody tr th:only-of-type {\n",
       "        vertical-align: middle;\n",
       "    }\n",
       "\n",
       "    .dataframe tbody tr th {\n",
       "        vertical-align: top;\n",
       "    }\n",
       "\n",
       "    .dataframe thead th {\n",
       "        text-align: right;\n",
       "    }\n",
       "</style>\n",
       "<table border=\"1\" class=\"dataframe\">\n",
       "  <thead>\n",
       "    <tr style=\"text-align: right;\">\n",
       "      <th></th>\n",
       "      <th>pslist.nprocs64bit</th>\n",
       "      <th>svcscan.interactive_process_services</th>\n",
       "      <th>handles.nport</th>\n",
       "    </tr>\n",
       "  </thead>\n",
       "  <tbody>\n",
       "    <tr>\n",
       "      <th>count</th>\n",
       "      <td>58047.0</td>\n",
       "      <td>58047.0</td>\n",
       "      <td>58047.0</td>\n",
       "    </tr>\n",
       "    <tr>\n",
       "      <th>mean</th>\n",
       "      <td>0.0</td>\n",
       "      <td>0.0</td>\n",
       "      <td>0.0</td>\n",
       "    </tr>\n",
       "    <tr>\n",
       "      <th>std</th>\n",
       "      <td>0.0</td>\n",
       "      <td>0.0</td>\n",
       "      <td>0.0</td>\n",
       "    </tr>\n",
       "    <tr>\n",
       "      <th>min</th>\n",
       "      <td>0.0</td>\n",
       "      <td>0.0</td>\n",
       "      <td>0.0</td>\n",
       "    </tr>\n",
       "    <tr>\n",
       "      <th>25%</th>\n",
       "      <td>0.0</td>\n",
       "      <td>0.0</td>\n",
       "      <td>0.0</td>\n",
       "    </tr>\n",
       "    <tr>\n",
       "      <th>50%</th>\n",
       "      <td>0.0</td>\n",
       "      <td>0.0</td>\n",
       "      <td>0.0</td>\n",
       "    </tr>\n",
       "    <tr>\n",
       "      <th>75%</th>\n",
       "      <td>0.0</td>\n",
       "      <td>0.0</td>\n",
       "      <td>0.0</td>\n",
       "    </tr>\n",
       "    <tr>\n",
       "      <th>max</th>\n",
       "      <td>0.0</td>\n",
       "      <td>0.0</td>\n",
       "      <td>0.0</td>\n",
       "    </tr>\n",
       "  </tbody>\n",
       "</table>\n",
       "</div>"
      ],
      "text/plain": [
       "       pslist.nprocs64bit  svcscan.interactive_process_services  handles.nport\n",
       "count             58047.0                               58047.0        58047.0\n",
       "mean                  0.0                                   0.0            0.0\n",
       "std                   0.0                                   0.0            0.0\n",
       "min                   0.0                                   0.0            0.0\n",
       "25%                   0.0                                   0.0            0.0\n",
       "50%                   0.0                                   0.0            0.0\n",
       "75%                   0.0                                   0.0            0.0\n",
       "max                   0.0                                   0.0            0.0"
      ]
     },
     "execution_count": 10,
     "metadata": {},
     "output_type": "execute_result"
    }
   ],
   "source": [
    "df[['pslist.nprocs64bit','svcscan.interactive_process_services','handles.nport']].describe()"
   ]
  },
  {
   "cell_type": "code",
   "execution_count": 11,
   "metadata": {},
   "outputs": [],
   "source": [
    "df = df.drop(columns=['pslist.nprocs64bit','svcscan.interactive_process_services','handles.nport'])"
   ]
  },
  {
   "cell_type": "code",
   "execution_count": 12,
   "metadata": {},
   "outputs": [],
   "source": [
    "path_save = '/home/arfrech/Documents/Cursos/data science/Projects/cybersecurity - TCC/tcc-dsa/data/processed'\n",
    "df.to_parquet(f'{path_save}/Obfuscated-MalMem2022-processed.parquet')"
   ]
  },
  {
   "cell_type": "code",
   "execution_count": 6,
   "metadata": {},
   "outputs": [
    {
     "name": "stdout",
     "output_type": "stream",
     "text": [
      "['pslist.nproc', 'pslist.nppid', 'pslist.avg_threads', 'pslist.nprocs64bit', 'pslist.avg_handlers', 'dlllist.ndlls', 'dlllist.avg_dlls_per_proc', 'handles.nhandles', 'handles.avg_handles_per_proc', 'handles.nport', 'handles.nfile', 'handles.nevent', 'handles.ndesktop', 'handles.nkey', 'handles.nthread', 'handles.ndirectory', 'handles.nsemaphore', 'handles.ntimer', 'handles.nsection', 'handles.nmutant', 'ldrmodules.not_in_load', 'ldrmodules.not_in_init', 'ldrmodules.not_in_mem', 'ldrmodules.not_in_load_avg', 'ldrmodules.not_in_init_avg', 'ldrmodules.not_in_mem_avg', 'malfind.ninjections', 'malfind.commitCharge', 'malfind.protection', 'malfind.uniqueInjections', 'psxview.not_in_pslist', 'psxview.not_in_eprocess_pool', 'psxview.not_in_ethread_pool', 'psxview.not_in_pspcid_list', 'psxview.not_in_csrss_handles', 'psxview.not_in_session', 'psxview.not_in_deskthrd', 'psxview.not_in_pslist_false_avg', 'psxview.not_in_eprocess_pool_false_avg', 'psxview.not_in_ethread_pool_false_avg', 'psxview.not_in_pspcid_list_false_avg', 'psxview.not_in_csrss_handles_false_avg', 'psxview.not_in_session_false_avg', 'psxview.not_in_deskthrd_false_avg', 'modules.nmodules', 'svcscan.nservices', 'svcscan.kernel_drivers', 'svcscan.fs_drivers', 'svcscan.process_services', 'svcscan.shared_process_services', 'svcscan.interactive_process_services', 'svcscan.nactive', 'callbacks.ncallbacks', 'callbacks.nanonymous', 'callbacks.ngeneric', 'Class', 'Category', 'Family']\n"
     ]
    }
   ],
   "source": [
    "print(df.columns.tolist())"
   ]
  },
  {
   "cell_type": "code",
   "execution_count": null,
   "metadata": {},
   "outputs": [],
   "source": []
  }
 ],
 "metadata": {
  "kernelspec": {
   "display_name": "tcc-dsa-venv",
   "language": "python",
   "name": "python3"
  },
  "language_info": {
   "codemirror_mode": {
    "name": "ipython",
    "version": 3
   },
   "file_extension": ".py",
   "mimetype": "text/x-python",
   "name": "python",
   "nbconvert_exporter": "python",
   "pygments_lexer": "ipython3",
   "version": "3.9.12"
  }
 },
 "nbformat": 4,
 "nbformat_minor": 2
}
